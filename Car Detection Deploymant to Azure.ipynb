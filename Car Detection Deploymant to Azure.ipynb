{
 "cells": [
  {
   "cell_type": "code",
   "execution_count": null,
   "id": "b7e6fc08",
   "metadata": {},
   "outputs": [],
   "source": [
    "%config Completer.use_jedi = False\n",
    "from azureml.core import Workspace\n",
    "\n",
    "ws = Workspace.from_config()"
   ]
  },
  {
   "cell_type": "code",
   "execution_count": null,
   "id": "eba8ec42",
   "metadata": {},
   "outputs": [],
   "source": [
    "# Register a model:\n",
    "# from azureml.core.model import Model\n",
    "# model = Model.register(ws, model_name=\"vgg16\", model_path=\"vgg16_weights.h5\")"
   ]
  },
  {
   "cell_type": "code",
   "execution_count": null,
   "id": "87e2b69e",
   "metadata": {},
   "outputs": [],
   "source": [
    "from azureml.core.model import Model\n",
    "\n",
    "model = Model(ws, 'vgg16')"
   ]
  },
  {
   "cell_type": "code",
   "execution_count": null,
   "id": "24885aab",
   "metadata": {},
   "outputs": [],
   "source": [
    "from tensorflow.keras.models import load_model\n",
    "\n",
    "model = load_model('vgg16_weights.h5')"
   ]
  },
  {
   "cell_type": "code",
   "execution_count": null,
   "id": "0ded3a20",
   "metadata": {},
   "outputs": [],
   "source": [
    "# Setup Environment\n",
    "from azureml.core import Environment\n",
    "from azureml.core.model import InferenceConfig\n",
    "\n",
    "env = Environment(name='myenv')\n",
    "python_packages = ['nltk','numpy','onnxruntime','image','azureml-contrib-services']\n",
    "for package in python_packages:\n",
    "    env.python.conda_dependencies.add_pip_package(package)\n",
    "env.python.conda_dependencies.add_conda_package('tensorflow')\n",
    "inference_config = InferenceConfig(environment=env, entry_script='./score.py')"
   ]
  },
  {
   "cell_type": "code",
   "execution_count": null,
   "id": "e0dbe040",
   "metadata": {},
   "outputs": [],
   "source": [
    "# Deployment\n",
    "from azureml.core.webservice import AciWebservice\n",
    "from azureml.core.webservice import LocalWebservice\n",
    "\n",
    "dep_config = AciWebservice.deploy_configuration(cpu_cores = 1,\n",
    "                                                       memory_gb = 4)\n",
    "\n",
    "# Define the model, inference, & deployment configuration and web service name and location to deploy\n",
    "service = Model.deploy(workspace = ws,\n",
    "                       name = \"service\",\n",
    "                       models = [model],\n",
    "                       inference_config = inference_config,\n",
    "                       deployment_config = dep_config,\n",
    "                      )\n",
    "service.wait_for_deployment(show_output=True)"
   ]
  },
  {
   "cell_type": "code",
   "execution_count": null,
   "id": "ac008aa4",
   "metadata": {},
   "outputs": [],
   "source": [
    "import requests\n",
    "import PIL\n",
    "import json\n",
    "\n",
    "# Test\n",
    "img = open('car.png', 'rb').read()\n",
    "headers = {'Content-Type':'application/json'}\n",
    "\n",
    "response = requests.post(service.scoring_uri,data=img, headers=headers)\n",
    "\n",
    "response = json.loads(response.text)\n",
    "print(response)"
   ]
  },
  {
   "cell_type": "code",
   "execution_count": null,
   "id": "3b8f165b",
   "metadata": {},
   "outputs": [],
   "source": [
    "logs = service.get_logs()"
   ]
  },
  {
   "cell_type": "code",
   "execution_count": null,
   "id": "69dbc798",
   "metadata": {},
   "outputs": [],
   "source": [
    "service.scoring_uri"
   ]
  }
 ],
 "metadata": {
  "kernelspec": {
   "display_name": "Python 3",
   "language": "python",
   "name": "python3"
  },
  "language_info": {
   "codemirror_mode": {
    "name": "ipython",
    "version": 3
   },
   "file_extension": ".py",
   "mimetype": "text/x-python",
   "name": "python",
   "nbconvert_exporter": "python",
   "pygments_lexer": "ipython3",
   "version": "3.6.8"
  }
 },
 "nbformat": 4,
 "nbformat_minor": 5
}
