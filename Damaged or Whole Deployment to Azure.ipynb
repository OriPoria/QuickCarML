{
 "cells": [
  {
   "cell_type": "code",
   "execution_count": null,
   "id": "3a94c861",
   "metadata": {},
   "outputs": [],
   "source": [
    "%config Completer.use_jedi = False\n",
    "from azureml.core import Workspace\n",
    "\n",
    "ws = Workspace.from_config()"
   ]
  },
  {
   "cell_type": "code",
   "execution_count": null,
   "id": "a2970c14",
   "metadata": {},
   "outputs": [],
   "source": [
    "# Register a model:\n",
    "# from azureml.core.model import Model\n",
    "# model = Model.register(ws, model_name=\"damageDetector\", model_path=\"damage_detector_weights.h5\")"
   ]
  },
  {
   "cell_type": "code",
   "execution_count": null,
   "id": "4189b7fd",
   "metadata": {},
   "outputs": [],
   "source": [
    "from azureml.core.model import Model\n",
    "\n",
    "model = Model(ws, 'damageDetector')"
   ]
  },
  {
   "cell_type": "code",
   "execution_count": null,
   "id": "9cb3d1d1",
   "metadata": {},
   "outputs": [],
   "source": [
    "# Setup Environment\n",
    "from azureml.core import Environment\n",
    "from azureml.core.model import InferenceConfig\n",
    "\n",
    "env = Environment(name='myenv')\n",
    "python_packages = ['numpy', 'tensorflow==2.1.0', 'h5py==2.10.0','image','azureml-contrib-services']\n",
    "for package in python_packages:\n",
    "    env.python.conda_dependencies.add_pip_package(package)\n",
    "inference_config = InferenceConfig(environment=env, entry_script='./score_damage.py')"
   ]
  },
  {
   "cell_type": "code",
   "execution_count": null,
   "id": "9ae6f646",
   "metadata": {},
   "outputs": [],
   "source": [
    "# Deployment\n",
    "from azureml.core.webservice import AciWebservice\n",
    "from azureml.core.webservice import LocalWebservice\n",
    "dep_config = AciWebservice.deploy_configuration(cpu_cores = 1,\n",
    "                                                       memory_gb = 4)\n",
    "# Define the model, inference, & deployment configuration and web service name and location to deploy\n",
    "service = Model.deploy(workspace = ws,\n",
    "                       name = \"service2\",\n",
    "                       models = [model],\n",
    "                       inference_config = inference_config,\n",
    "                       deployment_config = dep_config,\n",
    "                      )\n",
    "service.wait_for_deployment(show_output=True)"
   ]
  },
  {
   "cell_type": "code",
   "execution_count": null,
   "id": "33bbe0ea",
   "metadata": {},
   "outputs": [],
   "source": [
    "import requests\n",
    "import PIL\n",
    "import json\n",
    "\n",
    "# Test\n",
    "img = open('car-damaged.jpg', 'rb').read()\n",
    "headers = {'Content-Type':'application/json'}\n",
    "\n",
    "response = requests.post(service.scoring_uri,data=img, headers=headers)\n",
    "\n",
    "print(json.loads(response.text))\n"
   ]
  },
  {
   "cell_type": "code",
   "execution_count": null,
   "id": "20ba0d46",
   "metadata": {},
   "outputs": [],
   "source": [
    "service.get_logs().split('\\n')"
   ]
  },
  {
   "cell_type": "code",
   "execution_count": null,
   "id": "d4e57f98",
   "metadata": {},
   "outputs": [],
   "source": []
  }
 ],
 "metadata": {
  "kernelspec": {
   "display_name": "Python 3",
   "language": "python",
   "name": "python3"
  },
  "language_info": {
   "codemirror_mode": {
    "name": "ipython",
    "version": 3
   },
   "file_extension": ".py",
   "mimetype": "text/x-python",
   "name": "python",
   "nbconvert_exporter": "python",
   "pygments_lexer": "ipython3",
   "version": "3.6.8"
  }
 },
 "nbformat": 4,
 "nbformat_minor": 5
}
