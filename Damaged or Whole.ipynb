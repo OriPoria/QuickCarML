{
 "cells": [
  {
   "cell_type": "code",
   "execution_count": null,
   "id": "8a6c6ac7",
   "metadata": {},
   "outputs": [],
   "source": [
    "%config Completer.use_jedi = False\n",
    "import urllib\n",
    "from IPython.display import Image, display, clear_output\n",
    "from collections import Counter\n",
    "\n",
    "import matplotlib.pyplot as plt\n",
    "import seaborn as sns \n",
    "%matplotlib inline\n",
    "\n",
    "import json\n",
    "import numpy as np\n",
    "from sklearn.metrics import classification_report, confusion_matrix\n",
    "\n",
    "sns.set_style('whitegrid')\n",
    "import os\n",
    "import h5py\n",
    "import numpy as np\n",
    "import pandas as pd\n",
    "import pickle\n",
    "\n",
    "from tensorflow.keras.optimizers import SGD, RMSprop\n",
    "from tensorflow.python.keras.applications.vgg16 import VGG16\n",
    "from tensorflow.python.keras import applications\n",
    "from tensorflow.python.keras.preprocessing.image import ImageDataGenerator, array_to_img, img_to_array, load_img\n",
    "from tensorflow.python.keras.regularizers import l2, l1\n",
    "from tensorflow.python.keras.models import Sequential, load_model\n",
    "from tensorflow.python.keras.layers import Convolution2D, ZeroPadding2D, MaxPooling2D\n",
    "from tensorflow.python.keras.layers import Activation, Dropout, Flatten, Dense\n",
    "from tensorflow.python.keras.utils.np_utils import to_categorical\n",
    "from tensorflow.python.keras import optimizers\n",
    "from tensorflow.python.keras.callbacks import ModelCheckpoint, History\n"
   ]
  },
  {
   "cell_type": "code",
   "execution_count": null,
   "id": "c669d91a",
   "metadata": {},
   "outputs": [],
   "source": [
    "# prepare data augmentation configuration\n",
    "img_width, img_height = 150, 150\n",
    "batch_size = 4\n",
    "\n",
    "# directories path\n",
    "location = 'data1a'\n",
    "train_data_dir = location+'/training'\n",
    "validation_data_dir = location+'/validation'\n",
    "\n",
    "train_datagen = ImageDataGenerator(rescale=1./255,\n",
    "                                    rotation_range=40,\n",
    "                                    width_shift_range=0.2,\n",
    "                                    height_shift_range=0.2,\n",
    "                                    shear_range=0.2,\n",
    "                                    zoom_range=0.2,\n",
    "                                    horizontal_flip=True,\n",
    "                                    fill_mode='nearest')\n",
    "\n",
    "test_datagen = ImageDataGenerator(rescale=1./255)\n",
    "\n",
    "train_generator= test_datagen.flow_from_directory(train_data_dir,\n",
    "                                                   target_size=(img_height, img_width),\n",
    "                                                   batch_size=128,\n",
    "                                                   class_mode='binary')\n",
    "\n",
    "validation_generator = test_datagen.flow_from_directory(validation_data_dir,\n",
    "                                                        target_size=(img_height, img_width),\n",
    "                                                       batch_size=32,\n",
    "                                                       class_mode='binary')\n",
    "    "
   ]
  },
  {
   "cell_type": "code",
   "execution_count": null,
   "id": "336c177e",
   "metadata": {},
   "outputs": [],
   "source": [
    "model = Sequential([\n",
    "    Convolution2D(128, (3,3), activation='relu', input_shape=(img_width, img_height, 3)),\n",
    "    MaxPooling2D(2,2),\n",
    "    Convolution2D(64, (3,3), activation='relu'),\n",
    "    MaxPooling2D(2,2),\n",
    "    Convolution2D(32, (3,3), activation='relu'),\n",
    "    MaxPooling2D(2,2),\n",
    "    Flatten(),\n",
    "    Dense(1024, activation='relu'),\n",
    "    Dense(1, activation='sigmoid')\n",
    "\n",
    "])"
   ]
  },
  {
   "cell_type": "code",
   "execution_count": null,
   "id": "ba903b97",
   "metadata": {},
   "outputs": [],
   "source": [
    "model.compile(loss='binary_crossentropy',\n",
    "              optimizer = RMSprop(learning_rate=0.001),\n",
    "                  metrics=['accuracy'])"
   ]
  },
  {
   "cell_type": "code",
   "execution_count": null,
   "id": "e733a9a5",
   "metadata": {},
   "outputs": [],
   "source": [
    "NUM_EPOCHS = 15\n",
    "model.fit(train_generator, epochs=NUM_EPOCHS, validation_data=validation_generator,verbose=2)"
   ]
  },
  {
   "cell_type": "code",
   "execution_count": null,
   "id": "60898046",
   "metadata": {},
   "outputs": [],
   "source": [
    "def car_damaged_or_whole(image_path, model):\n",
    "    img = load_img(image_path, target_size=(img_width, img_height)) # this is a PIL image \n",
    "    x = img_to_array(img) # this is a Numpy array with shape (3, 256, 256)\n",
    "    x = x.reshape((1,) + x.shape)/255 # this is a Numpy array with shape (1, 3, 256, 256)\n",
    "    print(x.shape)\n",
    "    pred = model.predict(x)\n",
    "    print (\"Validating that damage exists...\")\n",
    "    print (pred)\n",
    "    if pred[0][0] <=.5:\n",
    "        print (\"Damaged\")\n",
    "    else:\n",
    "        print (\"No Damage\")"
   ]
  },
  {
   "cell_type": "code",
   "execution_count": null,
   "id": "b381df3c",
   "metadata": {},
   "outputs": [],
   "source": [
    "damaged_car_names = os.listdir(train_data_dir + '/00-damage')\n",
    "whole_car_names = os.listdir(train_data_dir + '/01-whole')"
   ]
  },
  {
   "cell_type": "code",
   "execution_count": null,
   "id": "e2db2212",
   "metadata": {},
   "outputs": [],
   "source": [
    "damage = '/00-damage/'\n",
    "whole = '/01-whole/'\n",
    "image_path = train_data_dir + whole + whole_car_names[15]\n"
   ]
  },
  {
   "cell_type": "code",
   "execution_count": null,
   "id": "2d243e5c",
   "metadata": {},
   "outputs": [],
   "source": [
    "# Test\n",
    "car_damaged_or_whole('car-damaged.jpg', model)"
   ]
  },
  {
   "cell_type": "code",
   "execution_count": null,
   "id": "04804d1e",
   "metadata": {},
   "outputs": [],
   "source": [
    "model.summary()"
   ]
  },
  {
   "cell_type": "code",
   "execution_count": null,
   "id": "7a619fda",
   "metadata": {},
   "outputs": [],
   "source": [
    "model.save(\"damaged_or_whole_weights.h5\")"
   ]
  }
 ],
 "metadata": {
  "kernelspec": {
   "display_name": "Python 3",
   "language": "python",
   "name": "python3"
  },
  "language_info": {
   "codemirror_mode": {
    "name": "ipython",
    "version": 3
   },
   "file_extension": ".py",
   "mimetype": "text/x-python",
   "name": "python",
   "nbconvert_exporter": "python",
   "pygments_lexer": "ipython3",
   "version": "3.6.8"
  }
 },
 "nbformat": 4,
 "nbformat_minor": 5
}
